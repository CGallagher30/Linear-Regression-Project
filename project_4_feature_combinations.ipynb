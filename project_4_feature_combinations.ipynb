{
 "cells": [
  {
   "cell_type": "code",
   "execution_count": 1,
   "id": "8615e856",
   "metadata": {},
   "outputs": [],
   "source": [
    "#feature_list=['Bird2BogRatio','BogAvoid','SDFA','P4P','PB','BoB','BogAvg','BirdAvg','GIR']\n",
    "feature_list=['Bird2BogRatio','BogAvoid','P4P','PB','BoB','BogAvg','BirdAvg','GIR'] # no STDFA"
   ]
  },
  {
   "cell_type": "code",
   "execution_count": 2,
   "id": "ae5afa2c",
   "metadata": {},
   "outputs": [],
   "source": [
    "#SDFA_MC=['Bird2BogRatio','BogAvoid']\n",
    "P4P_MC=['Bird2BogRatio','BogAvoid']\n",
    "PB_MC=['BirdAvg','Bird2BogRatio','BoB']\n",
    "BirdAvg_MC=['PB','Bird2BogRatio','BoB']\n",
    "Bird2BogRatio_MC=['SDFA','P4P','PB','BirdAvg','BoB','BogAvg','BogAvoid']\n",
    "BoB_MC=['BirdAvg','Bird2BogRatio','PB']\n",
    "BogAvoid_MC=['SDFA','P4P','Bird2BogRatio','BogAvg']\n",
    "BogAvg_MC=['Bird2BogRatio','BogAvoid']\n",
    "GIR_MC=[]"
   ]
  },
  {
   "cell_type": "code",
   "execution_count": 3,
   "id": "5fabc038",
   "metadata": {},
   "outputs": [],
   "source": [
    "from itertools import permutations"
   ]
  },
  {
   "cell_type": "code",
   "execution_count": 4,
   "id": "d013d6ed",
   "metadata": {},
   "outputs": [],
   "source": [
    "feature_list_combos=list(permutations(feature_list))"
   ]
  },
  {
   "cell_type": "code",
   "execution_count": 5,
   "id": "0d8f3645",
   "metadata": {},
   "outputs": [],
   "source": [
    "list3=[]\n",
    "for tuple1 in feature_list_combos:\n",
    "    list1=list(tuple1)\n",
    "    list2=list(tuple1)\n",
    "    for stat1 in list1:\n",
    "        if stat1=='Bird2BogRatio' and stat1 in list2:\n",
    "            for stat2 in Bird2BogRatio_MC:\n",
    "                if stat2 in list2:\n",
    "                    list2.remove(stat2)\n",
    "        if stat1=='BogAvoid' and stat1 in list2:\n",
    "            for stat2 in BogAvoid_MC:\n",
    "                if stat2 in list2:\n",
    "                    list2.remove(stat2)\n",
    "        #if stat1=='SDFA' and stat1 in list2:\n",
    "            #for stat2 in SDFA_MC:\n",
    "               # if stat2 in list2:\n",
    "                    #list2.remove(stat2)\n",
    "        if stat1=='P4P' and stat1 in list2:\n",
    "            for stat2 in P4P_MC:\n",
    "                if stat2 in list2:\n",
    "                    list2.remove(stat2)\n",
    "        if stat1=='PB' and stat1 in list2:\n",
    "            for stat2 in PB_MC:\n",
    "                if stat2 in list2:\n",
    "                    list2.remove(stat2)\n",
    "        if stat1=='BoB' and stat1 in list2:\n",
    "            for stat2 in BoB_MC:\n",
    "                if stat2 in list2:\n",
    "                    list2.remove(stat2)\n",
    "        if stat1=='BogAvg' and stat1 in list2:\n",
    "            for stat2 in BogAvg_MC:\n",
    "                if stat2 in list2:\n",
    "                    list2.remove(stat2)\n",
    "        if stat1=='BirdAvg' and stat1 in list2:\n",
    "            for stat2 in BirdAvg_MC:\n",
    "                if stat2 in list2:\n",
    "                    list2.remove(stat2)\n",
    "        if stat1=='GIR' and stat1 in list2:\n",
    "            for stat2 in GIR_MC:\n",
    "                if stat2 in list2:\n",
    "                    list2.remove(stat2)\n",
    "    if list2 not in list3:\n",
    "        list3.append(list2)\n"
   ]
  },
  {
   "cell_type": "code",
   "execution_count": 6,
   "id": "2e1d6792",
   "metadata": {},
   "outputs": [],
   "source": [
    "list4=[]\n",
    "for list1 in list3:\n",
    "    list1.sort()\n",
    "    if list1 not in list4:\n",
    "        list4.append(list1)"
   ]
  },
  {
   "cell_type": "code",
   "execution_count": 7,
   "id": "fca9a555",
   "metadata": {},
   "outputs": [
    {
     "data": {
      "text/plain": [
       "7"
      ]
     },
     "execution_count": 7,
     "metadata": {},
     "output_type": "execute_result"
    }
   ],
   "source": [
    "len(list4)"
   ]
  },
  {
   "cell_type": "code",
   "execution_count": 8,
   "id": "ea444593",
   "metadata": {},
   "outputs": [
    {
     "data": {
      "text/plain": [
       "92"
      ]
     },
     "execution_count": 8,
     "metadata": {},
     "output_type": "execute_result"
    }
   ],
   "source": [
    "len(list3)"
   ]
  },
  {
   "cell_type": "code",
   "execution_count": 9,
   "id": "be580862",
   "metadata": {},
   "outputs": [
    {
     "data": {
      "text/plain": [
       "[['Bird2BogRatio', 'GIR'],\n",
       " ['BogAvoid', 'GIR', 'PB'],\n",
       " ['BoB', 'BogAvoid', 'GIR'],\n",
       " ['BirdAvg', 'BogAvoid', 'GIR'],\n",
       " ['BogAvg', 'GIR', 'P4P', 'PB'],\n",
       " ['BoB', 'BogAvg', 'GIR', 'P4P'],\n",
       " ['BirdAvg', 'BogAvg', 'GIR', 'P4P']]"
      ]
     },
     "execution_count": 9,
     "metadata": {},
     "output_type": "execute_result"
    }
   ],
   "source": [
    "list4"
   ]
  },
  {
   "cell_type": "code",
   "execution_count": null,
   "id": "ce00a636",
   "metadata": {},
   "outputs": [],
   "source": []
  }
 ],
 "metadata": {
  "kernelspec": {
   "display_name": "Python [conda env:regression]",
   "language": "python",
   "name": "conda-env-regression-py"
  },
  "language_info": {
   "codemirror_mode": {
    "name": "ipython",
    "version": 3
   },
   "file_extension": ".py",
   "mimetype": "text/x-python",
   "name": "python",
   "nbconvert_exporter": "python",
   "pygments_lexer": "ipython3",
   "version": "3.8.13"
  }
 },
 "nbformat": 4,
 "nbformat_minor": 5
}
