{
 "cells": [
  {
   "cell_type": "code",
   "execution_count": 1,
   "id": "741f43fc",
   "metadata": {},
   "outputs": [],
   "source": [
    "# Importing Packages\n",
    "import pandas as pd\n",
    "import seaborn as sns\n",
    "import statsmodels.api as sm\n",
    "from sklearn.linear_model import LinearRegression\n",
    "from sklearn.metrics import mean_squared_error, mean_absolute_error"
   ]
  },
  {
   "cell_type": "code",
   "execution_count": 2,
   "id": "4ebc09e6",
   "metadata": {},
   "outputs": [],
   "source": [
    "# import main_df\n",
    "main_df=pd.read_csv('Database/main_allyears_df.csv').iloc[:,1:]"
   ]
  },
  {
   "cell_type": "code",
   "execution_count": null,
   "id": "b1265cb3",
   "metadata": {},
   "outputs": [],
   "source": [
    "# From the project_4_feature_combinations notebook\n",
    "# The columns of interest are going to be\n",
    "'''\n",
    "\n",
    "[['Bird2BogRatio', 'GIR'],\n",
    " ['BogAvoid', 'GIR', 'PB'],\n",
    " ['BoB', 'BogAvoid', 'GIR'],\n",
    " ['BirdAvg', 'BogAvoid', 'GIR'],\n",
    " ['BogAvg', 'GIR', 'P4P', 'PB', 'SDFA'],\n",
    " ['BoB', 'BogAvg', 'GIR', 'P4P', 'SDFA'],\n",
    " ['BirdAvg', 'BogAvg', 'GIR', 'P4P', 'SDFA']]\n",
    " \n",
    "'''\n",
    "# Plus the target ['Scoring Average (Actual)']\n",
    "\n",
    "# Putting it in correct names:\n",
    "\n",
    "'''\n",
    "\n",
    "[['Birdie to Bogey Ratio','Greens in Regulation Percentage'],\n",
    " ['Bogey Avoidance', 'Greens in Regulation Percentage', 'Par Breakers'],\n",
    " ['Birdie or Better Percentage','Bogey Avoidance','Greens in Regulation Percentage'],\n",
    " ['Birdie Average','Bogey Avoidance','Greens in Regulation Percentage'],\n",
    " ['Bogey Average','Greens in Regulation Percentage','Par 4 Performance','Par Breakers','Stroke Differential Field Average'],\n",
    " ['Birdie or Better Percentage','Bogey Average','Greens in Regulation Percentage','Par 4 Performance','Stroke Differential Field Average'],\n",
    " ['Birdie Average','Bogey Avoidance','Greens in Regulation Percentage','Par 4 Performance','Stroke Differential Field Average']]\n",
    " \n",
    "'''"
   ]
  },
  {
   "cell_type": "code",
   "execution_count": null,
   "id": "546f928d",
   "metadata": {},
   "outputs": [],
   "source": []
  },
  {
   "cell_type": "code",
   "execution_count": 18,
   "id": "507ed560",
   "metadata": {},
   "outputs": [],
   "source": [
    "# Defining Model Columns (Models 0-6)\n",
    "model_columns=[['Scoring Average (Actual)','Birdie to Bogey Ratio','Greens in Regulation Percentage'],\n",
    " ['Scoring Average (Actual)','Bogey Avoidance', 'Greens in Regulation Percentage', 'Par Breakers'],\n",
    " ['Scoring Average (Actual)','Birdie or Better Percentage','Bogey Avoidance','Greens in Regulation Percentage'],\n",
    " ['Scoring Average (Actual)','Birdie Average','Bogey Avoidance','Greens in Regulation Percentage'],\n",
    " ['Scoring Average (Actual)','Bogey Average','Greens in Regulation Percentage','Par 4 Performance','Par Breakers','Stroke Differential Field Average'],\n",
    " ['Scoring Average (Actual)','Birdie or Better Percentage','Bogey Average','Greens in Regulation Percentage','Par 4 Performance','Stroke Differential Field Average'],\n",
    " ['Scoring Average (Actual)','Birdie Average','Bogey Avoidance','Greens in Regulation Percentage','Par 4 Performance','Stroke Differential Field Average']]"
   ]
  },
  {
   "cell_type": "code",
   "execution_count": 23,
   "id": "c4610592",
   "metadata": {},
   "outputs": [
    {
     "data": {
      "text/html": [
       "<table class=\"simpletable\">\n",
       "<caption>OLS Regression Results</caption>\n",
       "<tr>\n",
       "  <th>Dep. Variable:</th>    <td>Scoring Average (Actual)</td> <th>  R-squared:         </th> <td>   0.821</td>\n",
       "</tr>\n",
       "<tr>\n",
       "  <th>Model:</th>                       <td>OLS</td>           <th>  Adj. R-squared:    </th> <td>   0.820</td>\n",
       "</tr>\n",
       "<tr>\n",
       "  <th>Method:</th>                 <td>Least Squares</td>      <th>  F-statistic:       </th> <td>   2638.</td>\n",
       "</tr>\n",
       "<tr>\n",
       "  <th>Date:</th>                 <td>Thu, 04 Aug 2022</td>     <th>  Prob (F-statistic):</th>  <td>  0.00</td> \n",
       "</tr>\n",
       "<tr>\n",
       "  <th>Time:</th>                     <td>15:43:16</td>         <th>  Log-Likelihood:    </th> <td> -1229.1</td>\n",
       "</tr>\n",
       "<tr>\n",
       "  <th>No. Observations:</th>          <td>  1157</td>          <th>  AIC:               </th> <td>   2464.</td>\n",
       "</tr>\n",
       "<tr>\n",
       "  <th>Df Residuals:</th>              <td>  1154</td>          <th>  BIC:               </th> <td>   2479.</td>\n",
       "</tr>\n",
       "<tr>\n",
       "  <th>Df Model:</th>                  <td>     2</td>          <th>                     </th>     <td> </td>   \n",
       "</tr>\n",
       "<tr>\n",
       "  <th>Covariance Type:</th>          <td>nonrobust</td>        <th>                     </th>     <td> </td>   \n",
       "</tr>\n",
       "</table>\n",
       "<table class=\"simpletable\">\n",
       "<tr>\n",
       "                 <td></td>                    <th>coef</th>     <th>std err</th>      <th>t</th>      <th>P>|t|</th>  <th>[0.025</th>    <th>0.975]</th>  \n",
       "</tr>\n",
       "<tr>\n",
       "  <th>const</th>                           <td>   78.1050</td> <td>    0.201</td> <td>  389.225</td> <td> 0.000</td> <td>   77.711</td> <td>   78.499</td>\n",
       "</tr>\n",
       "<tr>\n",
       "  <th>Birdie to Bogey Ratio</th>           <td>   -2.4195</td> <td>    0.049</td> <td>  -49.133</td> <td> 0.000</td> <td>   -2.516</td> <td>   -2.323</td>\n",
       "</tr>\n",
       "<tr>\n",
       "  <th>Greens in Regulation Percentage</th> <td>   -0.0493</td> <td>    0.004</td> <td>  -13.655</td> <td> 0.000</td> <td>   -0.056</td> <td>   -0.042</td>\n",
       "</tr>\n",
       "</table>\n",
       "<table class=\"simpletable\">\n",
       "<tr>\n",
       "  <th>Omnibus:</th>       <td>449.297</td> <th>  Durbin-Watson:     </th> <td>   1.116</td>\n",
       "</tr>\n",
       "<tr>\n",
       "  <th>Prob(Omnibus):</th> <td> 0.000</td>  <th>  Jarque-Bera (JB):  </th> <td>3457.764</td>\n",
       "</tr>\n",
       "<tr>\n",
       "  <th>Skew:</th>          <td> 1.591</td>  <th>  Prob(JB):          </th> <td>    0.00</td>\n",
       "</tr>\n",
       "<tr>\n",
       "  <th>Kurtosis:</th>      <td>10.848</td>  <th>  Cond. No.          </th> <td>    619.</td>\n",
       "</tr>\n",
       "</table><br/><br/>Notes:<br/>[1] Standard Errors assume that the covariance matrix of the errors is correctly specified."
      ],
      "text/plain": [
       "<class 'statsmodels.iolib.summary.Summary'>\n",
       "\"\"\"\n",
       "                               OLS Regression Results                               \n",
       "====================================================================================\n",
       "Dep. Variable:     Scoring Average (Actual)   R-squared:                       0.821\n",
       "Model:                                  OLS   Adj. R-squared:                  0.820\n",
       "Method:                       Least Squares   F-statistic:                     2638.\n",
       "Date:                      Thu, 04 Aug 2022   Prob (F-statistic):               0.00\n",
       "Time:                              15:43:16   Log-Likelihood:                -1229.1\n",
       "No. Observations:                      1157   AIC:                             2464.\n",
       "Df Residuals:                          1154   BIC:                             2479.\n",
       "Df Model:                                 2                                         \n",
       "Covariance Type:                  nonrobust                                         \n",
       "===================================================================================================\n",
       "                                      coef    std err          t      P>|t|      [0.025      0.975]\n",
       "---------------------------------------------------------------------------------------------------\n",
       "const                              78.1050      0.201    389.225      0.000      77.711      78.499\n",
       "Birdie to Bogey Ratio              -2.4195      0.049    -49.133      0.000      -2.516      -2.323\n",
       "Greens in Regulation Percentage    -0.0493      0.004    -13.655      0.000      -0.056      -0.042\n",
       "==============================================================================\n",
       "Omnibus:                      449.297   Durbin-Watson:                   1.116\n",
       "Prob(Omnibus):                  0.000   Jarque-Bera (JB):             3457.764\n",
       "Skew:                           1.591   Prob(JB):                         0.00\n",
       "Kurtosis:                      10.848   Cond. No.                         619.\n",
       "==============================================================================\n",
       "\n",
       "Notes:\n",
       "[1] Standard Errors assume that the covariance matrix of the errors is correctly specified.\n",
       "\"\"\""
      ]
     },
     "execution_count": 23,
     "metadata": {},
     "output_type": "execute_result"
    }
   ],
   "source": [
    "# Model 0\n",
    "model_0_df=main_df[model_columns[0]]\n",
    "y=model_0_df['Scoring Average (Actual)']\n",
    "x=sm.add_constant(model_0_df.drop(['Scoring Average (Actual)'],axis=1))\n",
    "model=sm.OLS(y,x)\n",
    "fit=model.fit()\n",
    "fit.summary()"
   ]
  },
  {
   "cell_type": "code",
   "execution_count": 24,
   "id": "26fc93ad",
   "metadata": {},
   "outputs": [
    {
     "data": {
      "text/plain": [
       "LinearRegression()"
      ]
     },
     "execution_count": 24,
     "metadata": {},
     "output_type": "execute_result"
    }
   ],
   "source": [
    "# Model 0\n",
    "model=LinearRegression()\n",
    "model.fit(x,y)"
   ]
  },
  {
   "cell_type": "code",
   "execution_count": 25,
   "id": "5b17ea94",
   "metadata": {},
   "outputs": [
    {
     "data": {
      "text/plain": [
       "0.8205373344143096"
      ]
     },
     "execution_count": 25,
     "metadata": {},
     "output_type": "execute_result"
    }
   ],
   "source": [
    "# Model 0\n",
    "model.score(x,y)"
   ]
  },
  {
   "cell_type": "code",
   "execution_count": 28,
   "id": "fdde3dd1",
   "metadata": {},
   "outputs": [],
   "source": [
    "# Model 0\n",
    "predictions=model.predict(x)"
   ]
  },
  {
   "cell_type": "code",
   "execution_count": 29,
   "id": "6feb836a",
   "metadata": {},
   "outputs": [
    {
     "data": {
      "text/plain": [
       "0.4900821351381312"
      ]
     },
     "execution_count": 29,
     "metadata": {},
     "output_type": "execute_result"
    }
   ],
   "source": [
    "# Model 0\n",
    "mean_squared_error(y,predictions)"
   ]
  },
  {
   "cell_type": "code",
   "execution_count": 30,
   "id": "188fe41c",
   "metadata": {},
   "outputs": [
    {
     "data": {
      "text/plain": [
       "0.5145873746104569"
      ]
     },
     "execution_count": 30,
     "metadata": {},
     "output_type": "execute_result"
    }
   ],
   "source": [
    "# Model 0\n",
    "mean_absolute_error(y,predictions)"
   ]
  },
  {
   "cell_type": "code",
   "execution_count": 31,
   "id": "64ab42fb",
   "metadata": {},
   "outputs": [
    {
     "data": {
      "text/plain": [
       "array([ 0.        , -2.41945833, -0.04929877])"
      ]
     },
     "execution_count": 31,
     "metadata": {},
     "output_type": "execute_result"
    }
   ],
   "source": [
    "# Model 0\n",
    "model.coef_"
   ]
  },
  {
   "cell_type": "code",
   "execution_count": 32,
   "id": "0fcc1f2a",
   "metadata": {},
   "outputs": [
    {
     "data": {
      "text/plain": [
       "78.10498263632027"
      ]
     },
     "execution_count": 32,
     "metadata": {},
     "output_type": "execute_result"
    }
   ],
   "source": [
    "# Model 0\n",
    "model.intercept_"
   ]
  },
  {
   "cell_type": "code",
   "execution_count": 33,
   "id": "b74aa487",
   "metadata": {},
   "outputs": [
    {
     "data": {
      "text/plain": [
       "<AxesSubplot:ylabel='Scoring Average (Actual)'>"
      ]
     },
     "execution_count": 33,
     "metadata": {},
     "output_type": "execute_result"
    },
    {
     "data": {
      "image/png": "[encoded data removed]",
      "text/plain": [
       "<Figure size 432x288 with 1 Axes>"
      ]
     },
     "metadata": {
      "needs_background": "light"
     },
     "output_type": "display_data"
    }
   ],
   "source": [
    "# Model 0\n",
    "sns.scatterplot(y=y,x=predictions)"
   ]
  },
  {
   "cell_type": "code",
   "execution_count": 35,
   "id": "77db522d",
   "metadata": {},
   "outputs": [],
   "source": [
    "# Model 0\n",
    "resid=y-predictions"
   ]
  },
  {
   "cell_type": "code",
   "execution_count": 36,
   "id": "a4eb77e9",
   "metadata": {},
   "outputs": [
    {
     "data": {
      "text/plain": [
       "<AxesSubplot:ylabel='Scoring Average (Actual)'>"
      ]
     },
     "execution_count": 36,
     "metadata": {},
     "output_type": "execute_result"
    },
    {
     "data": {
      "image/png": "[encoded data removed]",
      "text/plain": [
       "<Figure size 432x288 with 1 Axes>"
      ]
     },
     "metadata": {
      "needs_background": "light"
     },
     "output_type": "display_data"
    }
   ],
   "source": [
    "# Model 0\n",
    "sns.scatterplot(y=resid,x=predictions)"
   ]
  },
  {
   "cell_type": "code",
   "execution_count": 37,
   "id": "482748a5",
   "metadata": {},
   "outputs": [
    {
     "data": {
      "text/html": [
       "<table class=\"simpletable\">\n",
       "<caption>OLS Regression Results</caption>\n",
       "<tr>\n",
       "  <th>Dep. Variable:</th>    <td>Scoring Average (Actual)</td> <th>  R-squared:         </th> <td>   0.944</td>\n",
       "</tr>\n",
       "<tr>\n",
       "  <th>Model:</th>                       <td>OLS</td>           <th>  Adj. R-squared:    </th> <td>   0.944</td>\n",
       "</tr>\n",
       "<tr>\n",
       "  <th>Method:</th>                 <td>Least Squares</td>      <th>  F-statistic:       </th> <td>   6461.</td>\n",
       "</tr>\n",
       "<tr>\n",
       "  <th>Date:</th>                 <td>Thu, 04 Aug 2022</td>     <th>  Prob (F-statistic):</th>  <td>  0.00</td> \n",
       "</tr>\n",
       "<tr>\n",
       "  <th>Time:</th>                     <td>16:00:10</td>         <th>  Log-Likelihood:    </th> <td> -556.90</td>\n",
       "</tr>\n",
       "<tr>\n",
       "  <th>No. Observations:</th>          <td>  1157</td>          <th>  AIC:               </th> <td>   1122.</td>\n",
       "</tr>\n",
       "<tr>\n",
       "  <th>Df Residuals:</th>              <td>  1153</td>          <th>  BIC:               </th> <td>   1142.</td>\n",
       "</tr>\n",
       "<tr>\n",
       "  <th>Df Model:</th>                  <td>     3</td>          <th>                     </th>     <td> </td>   \n",
       "</tr>\n",
       "<tr>\n",
       "  <th>Covariance Type:</th>          <td>nonrobust</td>        <th>                     </th>     <td> </td>   \n",
       "</tr>\n",
       "</table>\n",
       "<table class=\"simpletable\">\n",
       "<tr>\n",
       "                 <td></td>                    <th>coef</th>     <th>std err</th>      <th>t</th>      <th>P>|t|</th>  <th>[0.025</th>    <th>0.975]</th>  \n",
       "</tr>\n",
       "<tr>\n",
       "  <th>const</th>                           <td>   72.4736</td> <td>    0.166</td> <td>  435.475</td> <td> 0.000</td> <td>   72.147</td> <td>   72.800</td>\n",
       "</tr>\n",
       "<tr>\n",
       "  <th>Bogey Avoidance</th>                 <td>    0.1976</td> <td>    0.003</td> <td>   73.168</td> <td> 0.000</td> <td>    0.192</td> <td>    0.203</td>\n",
       "</tr>\n",
       "<tr>\n",
       "  <th>Greens in Regulation Percentage</th> <td>   -0.0073</td> <td>    0.002</td> <td>   -3.338</td> <td> 0.001</td> <td>   -0.012</td> <td>   -0.003</td>\n",
       "</tr>\n",
       "<tr>\n",
       "  <th>Par Breakers</th>                    <td>   -0.1832</td> <td>    0.003</td> <td>  -66.947</td> <td> 0.000</td> <td>   -0.189</td> <td>   -0.178</td>\n",
       "</tr>\n",
       "</table>\n",
       "<table class=\"simpletable\">\n",
       "<tr>\n",
       "  <th>Omnibus:</th>       <td>100.831</td> <th>  Durbin-Watson:     </th> <td>   1.931</td>\n",
       "</tr>\n",
       "<tr>\n",
       "  <th>Prob(Omnibus):</th> <td> 0.000</td>  <th>  Jarque-Bera (JB):  </th> <td> 158.596</td>\n",
       "</tr>\n",
       "<tr>\n",
       "  <th>Skew:</th>          <td> 0.637</td>  <th>  Prob(JB):          </th> <td>3.64e-35</td>\n",
       "</tr>\n",
       "<tr>\n",
       "  <th>Kurtosis:</th>      <td> 4.292</td>  <th>  Cond. No.          </th> <td>    996.</td>\n",
       "</tr>\n",
       "</table><br/><br/>Notes:<br/>[1] Standard Errors assume that the covariance matrix of the errors is correctly specified."
      ],
      "text/plain": [
       "<class 'statsmodels.iolib.summary.Summary'>\n",
       "\"\"\"\n",
       "                               OLS Regression Results                               \n",
       "====================================================================================\n",
       "Dep. Variable:     Scoring Average (Actual)   R-squared:                       0.944\n",
       "Model:                                  OLS   Adj. R-squared:                  0.944\n",
       "Method:                       Least Squares   F-statistic:                     6461.\n",
       "Date:                      Thu, 04 Aug 2022   Prob (F-statistic):               0.00\n",
       "Time:                              16:00:10   Log-Likelihood:                -556.90\n",
       "No. Observations:                      1157   AIC:                             1122.\n",
       "Df Residuals:                          1153   BIC:                             1142.\n",
       "Df Model:                                 3                                         \n",
       "Covariance Type:                  nonrobust                                         \n",
       "===================================================================================================\n",
       "                                      coef    std err          t      P>|t|      [0.025      0.975]\n",
       "---------------------------------------------------------------------------------------------------\n",
       "const                              72.4736      0.166    435.475      0.000      72.147      72.800\n",
       "Bogey Avoidance                     0.1976      0.003     73.168      0.000       0.192       0.203\n",
       "Greens in Regulation Percentage    -0.0073      0.002     -3.338      0.001      -0.012      -0.003\n",
       "Par Breakers                       -0.1832      0.003    -66.947      0.000      -0.189      -0.178\n",
       "==============================================================================\n",
       "Omnibus:                      100.831   Durbin-Watson:                   1.931\n",
       "Prob(Omnibus):                  0.000   Jarque-Bera (JB):              158.596\n",
       "Skew:                           0.637   Prob(JB):                     3.64e-35\n",
       "Kurtosis:                       4.292   Cond. No.                         996.\n",
       "==============================================================================\n",
       "\n",
       "Notes:\n",
       "[1] Standard Errors assume that the covariance matrix of the errors is correctly specified.\n",
       "\"\"\""
      ]
     },
     "execution_count": 37,
     "metadata": {},
     "output_type": "execute_result"
    }
   ],
   "source": [
    "# Model 1\n",
    "model_1_df=main_df[model_columns[1]]\n",
    "y=model_1_df['Scoring Average (Actual)']\n",
    "x=sm.add_constant(model_1_df.drop(['Scoring Average (Actual)'],axis=1))\n",
    "model=sm.OLS(y,x)\n",
    "fit=model.fit()\n",
    "fit.summary()"
   ]
  },
  {
   "cell_type": "code",
   "execution_count": 38,
   "id": "590f9343",
   "metadata": {},
   "outputs": [
    {
     "data": {
      "text/plain": [
       "LinearRegression()"
      ]
     },
     "execution_count": 38,
     "metadata": {},
     "output_type": "execute_result"
    }
   ],
   "source": [
    "# Model 1\n",
    "model=LinearRegression()\n",
    "model.fit(x,y)"
   ]
  },
  {
   "cell_type": "code",
   "execution_count": 39,
   "id": "d0264094",
   "metadata": {},
   "outputs": [
    {
     "data": {
      "text/plain": [
       "0.9438551628201026"
      ]
     },
     "execution_count": 39,
     "metadata": {},
     "output_type": "execute_result"
    }
   ],
   "source": [
    "# Model 1\n",
    "model.score(x,y)"
   ]
  },
  {
   "cell_type": "code",
   "execution_count": 40,
   "id": "18dec584",
   "metadata": {},
   "outputs": [],
   "source": [
    "# Model 1\n",
    "predictions=model.predict(x)"
   ]
  },
  {
   "cell_type": "code",
   "execution_count": 41,
   "id": "a636be3b",
   "metadata": {},
   "outputs": [
    {
     "data": {
      "text/plain": [
       "0.15332203827636015"
      ]
     },
     "execution_count": 41,
     "metadata": {},
     "output_type": "execute_result"
    }
   ],
   "source": [
    "# Model 1\n",
    "mean_squared_error(y,predictions)"
   ]
  },
  {
   "cell_type": "code",
   "execution_count": 42,
   "id": "cf03544d",
   "metadata": {},
   "outputs": [
    {
     "data": {
      "text/plain": [
       "0.30295017715676814"
      ]
     },
     "execution_count": 42,
     "metadata": {},
     "output_type": "execute_result"
    }
   ],
   "source": [
    "# Model 1\n",
    "mean_absolute_error(y,predictions)"
   ]
  },
  {
   "cell_type": "code",
   "execution_count": 43,
   "id": "87e59abe",
   "metadata": {},
   "outputs": [
    {
     "data": {
      "text/plain": [
       "array([ 0.        ,  0.19757347, -0.00731879, -0.18321562])"
      ]
     },
     "execution_count": 43,
     "metadata": {},
     "output_type": "execute_result"
    }
   ],
   "source": [
    "# Model 1\n",
    "model.coef_"
   ]
  },
  {
   "cell_type": "code",
   "execution_count": 44,
   "id": "a4125c57",
   "metadata": {},
   "outputs": [
    {
     "data": {
      "text/plain": [
       "72.47361354903865"
      ]
     },
     "execution_count": 44,
     "metadata": {},
     "output_type": "execute_result"
    }
   ],
   "source": [
    "# Model 1\n",
    "model.intercept_"
   ]
  },
  {
   "cell_type": "code",
   "execution_count": 45,
   "id": "ac1387da",
   "metadata": {},
   "outputs": [
    {
     "data": {
      "text/plain": [
       "<AxesSubplot:ylabel='Scoring Average (Actual)'>"
      ]
     },
     "execution_count": 45,
     "metadata": {},
     "output_type": "execute_result"
    },
    {
     "data": {
      "image/png": "[encoded data removed]",
      "text/plain": [
       "<Figure size 432x288 with 1 Axes>"
      ]
     },
     "metadata": {
      "needs_background": "light"
     },
     "output_type": "display_data"
    }
   ],
   "source": [
    "# Model 1\n",
    "sns.scatterplot(y=y,x=predictions)"
   ]
  },
  {
   "cell_type": "code",
   "execution_count": 46,
   "id": "3c85f3d1",
   "metadata": {},
   "outputs": [],
   "source": [
    "# Model 1\n",
    "resid=y-predictions"
   ]
  },
  {
   "cell_type": "code",
   "execution_count": 47,
   "id": "7af93be9",
   "metadata": {},
   "outputs": [
    {
     "data": {
      "text/plain": [
       "<AxesSubplot:ylabel='Scoring Average (Actual)'>"
      ]
     },
     "execution_count": 47,
     "metadata": {},
     "output_type": "execute_result"
    },
    {
     "data": {
      "image/png": "[encoded data removed]",
      "text/plain": [
       "<Figure size 432x288 with 1 Axes>"
      ]
     },
     "metadata": {
      "needs_background": "light"
     },
     "output_type": "display_data"
    }
   ],
   "source": [
    "# Model 1\n",
    "sns.scatterplot(y=resid,x=predictions)"
   ]
  },
  {
   "cell_type": "code",
   "execution_count": null,
   "id": "4a455768",
   "metadata": {},
   "outputs": [],
   "source": []
  }
 ],
 "metadata": {
  "kernelspec": {
   "display_name": "Python [conda env:regression]",
   "language": "python",
   "name": "conda-env-regression-py"
  },
  "language_info": {
   "codemirror_mode": {
    "name": "ipython",
    "version": 3
   },
   "file_extension": ".py",
   "mimetype": "text/x-python",
   "name": "python",
   "nbconvert_exporter": "python",
   "pygments_lexer": "ipython3",
   "version": "3.8.13"
  }
 },
 "nbformat": 4,
 "nbformat_minor": 5
}
